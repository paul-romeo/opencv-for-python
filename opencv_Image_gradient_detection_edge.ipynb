{
 "metadata": {
  "language_info": {
   "codemirror_mode": {
    "name": "ipython",
    "version": 3
   },
   "file_extension": ".py",
   "mimetype": "text/x-python",
   "name": "python",
   "nbconvert_exporter": "python",
   "pygments_lexer": "ipython3",
   "version": "3.8.5-final"
  },
  "orig_nbformat": 2,
  "kernelspec": {
   "name": "python38564bitb7a15ca74f72451c945c2980c2516e34",
   "display_name": "Python 3.8.5 64-bit",
   "language": "python"
  }
 },
 "nbformat": 4,
 "nbformat_minor": 2,
 "cells": [
  {
   "cell_type": "code",
   "execution_count": 1,
   "metadata": {},
   "outputs": [
    {
     "output_type": "error",
     "ename": "AttributeError",
     "evalue": "module 'cv2.cv2' has no attribute 'canny'",
     "traceback": [
      "\u001b[0;31m---------------------------------------------------------------------------\u001b[0m",
      "\u001b[0;31mAttributeError\u001b[0m                            Traceback (most recent call last)",
      "\u001b[0;32m<ipython-input-1-5029073a7390>\u001b[0m in \u001b[0;36m<module>\u001b[0;34m\u001b[0m\n\u001b[1;32m     20\u001b[0m \u001b[0msobelCombined\u001b[0m \u001b[0;34m=\u001b[0m \u001b[0mcv2\u001b[0m\u001b[0;34m.\u001b[0m\u001b[0mbitwise_or\u001b[0m\u001b[0;34m(\u001b[0m\u001b[0msobelX\u001b[0m\u001b[0;34m,\u001b[0m \u001b[0msobelY\u001b[0m\u001b[0;34m)\u001b[0m\u001b[0;34m\u001b[0m\u001b[0;34m\u001b[0m\u001b[0m\n\u001b[1;32m     21\u001b[0m \u001b[0;34m\u001b[0m\u001b[0m\n\u001b[0;32m---> 22\u001b[0;31m \u001b[0mcanny\u001b[0m \u001b[0;34m=\u001b[0m \u001b[0mcv2\u001b[0m\u001b[0;34m.\u001b[0m\u001b[0mcanny\u001b[0m\u001b[0;34m(\u001b[0m\u001b[0mimg\u001b[0m\u001b[0;34m,\u001b[0m \u001b[0;36m100\u001b[0m\u001b[0;34m,\u001b[0m \u001b[0;36m200\u001b[0m\u001b[0;34m)\u001b[0m\u001b[0;34m\u001b[0m\u001b[0;34m\u001b[0m\u001b[0m\n\u001b[0m\u001b[1;32m     23\u001b[0m \u001b[0;34m\u001b[0m\u001b[0m\n\u001b[1;32m     24\u001b[0m \u001b[0;31m# Display the images\u001b[0m\u001b[0;34m\u001b[0m\u001b[0;34m\u001b[0m\u001b[0;34m\u001b[0m\u001b[0m\n",
      "\u001b[0;31mAttributeError\u001b[0m: module 'cv2.cv2' has no attribute 'canny'"
     ]
    }
   ],
   "source": [
    "import cv2 \n",
    "import numpy as np \n",
    "from matplotlib import pyplot as plt \n",
    "\n",
    "# Open the image and convert color from BGR to RGB \n",
    "img = cv2.imread(\"messi5.jpg\", cv2.IMREAD_GRAYSCALE)\n",
    "img = cv2.cvtColor(img, cv2.COLOR_BGR2RGB)\n",
    "\n",
    "# Image edge detections \n",
    "lap = cv2.Laplacian(img, cv2.CV_64F, ksize=3)\n",
    "lap = np.uint8(np.absolute(lap))    # change to unsigned \n",
    "\n",
    "sobelX = cv2.Sobel(img, cv2.CV_64F, 1, 0)\n",
    "sobelX = np.uint8(np.absolute(sobelX))    # change to unsigned \n",
    "\n",
    "\n",
    "sobelY = cv2.Sobel(img, cv2.CV_64F, 0, 1)\n",
    "sobelY = np.uint8(np.absolute(sobelY))    # change to unsigned \n",
    "\n",
    "sobelCombined = cv2.bitwise_or(sobelX, sobelY)\n",
    "\n",
    "canny = cv2.Canny(img, 100, 200)\n",
    "\n",
    "# Display the images \n",
    "titles = [\"Image\", \"Laplacian\", \"SobelX\", \"SobelY\", \"SobelCombined\", \"Canny\"]\n",
    "images = [img, lap, sobelX, sobelY, sobelCombined, canny]\n",
    "\n",
    "for i in range(6):\n",
    "    plt.subplot(2,3,i+1), plt.imshow(images[i], \"gray\")\n",
    "    plt.title(titles[i])\n",
    "    plt.xticks([]), plt.yticks([])\n",
    "\n",
    "plt.show()\n",
    "\n"
   ]
  },
  {
   "cell_type": "code",
   "execution_count": null,
   "metadata": {},
   "outputs": [],
   "source": []
  }
 ]
}