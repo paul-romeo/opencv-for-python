{
 "metadata": {
  "language_info": {
   "codemirror_mode": {
    "name": "ipython",
    "version": 3
   },
   "file_extension": ".py",
   "mimetype": "text/x-python",
   "name": "python",
   "nbconvert_exporter": "python",
   "pygments_lexer": "ipython3",
   "version": "3.8.5-final"
  },
  "orig_nbformat": 2,
  "kernelspec": {
   "name": "python38564bitb7a15ca74f72451c945c2980c2516e34",
   "display_name": "Python 3.8.5 64-bit",
   "language": "python"
  }
 },
 "nbformat": 4,
 "nbformat_minor": 2,
 "cells": [
  {
   "cell_type": "code",
   "execution_count": null,
   "metadata": {},
   "outputs": [],
   "source": []
  },
  {
   "cell_type": "code",
   "execution_count": null,
   "metadata": {},
   "outputs": [],
   "source": [
    "import cv2 \n",
    "import numpy as np \n",
    "from matplotlib import pyplot as plt \n",
    "\n",
    "img = cv2.imread(\"lena.jpg\")\n",
    "\n",
    "# Gaussian pyramids \n",
    "lr1 = cv2.pyrDown(img)  # 1/2 size of img\n",
    "lr2 = cv2.pyrDown(lr1)  # 1/2 size of lr1 or 1/4 of img \n",
    "\n",
    "# level up the image. Note: the image get blurred \n",
    "hr1 = cv2.pyrUp(lr2)     # same size as lr1 but the image got blurred \n",
    "\n",
    "cv2.imshow(\"Image\", img)\n",
    "cv2.imshow(\"lr1\", lr1)\n",
    "cv2.imshow(\"lr2\", lr2)\n",
    "cv2.imshow(\"hr1\", hr1)\n",
    "\n",
    "cv2.waitKey(0)\n",
    "cv2.destroyAllWindows()\n",
    "\n"
   ]
  }
 ]
}